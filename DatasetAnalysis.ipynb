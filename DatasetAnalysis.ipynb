{
 "cells": [
  {
   "cell_type": "code",
   "execution_count": 4,
   "metadata": {},
   "outputs": [],
   "source": [
    "from itertools import product, islice\n",
    "from typing import Dict, List, Any, Tuple, Callable\n",
    "import os\n",
    "import pickle\n",
    "from timeit import default_timer as timer\n",
    "import math\n",
    "\n",
    "import numpy as np\n",
    "import matplotlib.pyplot as plt\n",
    "from scipy.spatial import Voronoi, voronoi_plot_2d\n",
    "from scipy.spatial import ConvexHull, Delaunay\n",
    "from scipy.spatial import distance\n",
    "\n",
    "from IOData.IOData import InputRule\n",
    "from IOData.IODataWith_l import IODataWith_l\n",
    "\n",
    "from simulators.track_simulator import TrackSimulator\n",
    "from simulators.simulation_settings import SafetyFilterTypes, TrackFilterTypes, SimulationInputRule, ModelType\n",
    "from tools.simualtion_results import Results\n",
    "\n",
    "from tools.simple_track_generator import trackGenerator\n",
    "from tools.FractalDimension import fractal_dimension\n",
    "from tools.monte_carlo_integral import monte_carlo_integrate\n",
    "from tools.dataset_analyse import weighting_xi_in_datasets, weighting_u_pf_y_p_in_datasets, get_datasets_hankel_matrix, Sampler"
   ]
  },
  {
   "cell_type": "code",
   "execution_count": 5,
   "metadata": {},
   "outputs": [],
   "source": [
    "# read results from file\n",
    "results_file_name = '09-19_14_40-results_list.pkl'\n",
    "with open(os.path.join(os.curdir, 'datasets', results_file_name), 'rb') as f:\n",
    "    results_list: List[Results] = pickle.load(f)"
   ]
  },
  {
   "cell_type": "code",
   "execution_count": 6,
   "metadata": {},
   "outputs": [],
   "source": [
    "dataset_name_list: List[str]  = [\n",
    "    '09-19_14_11-oval_track-INDIRECT_FIX_MU_WEIGHTING_ADD_DATA.pkl',\n",
    "    '09-19_14_12-oval_track-INDIRECT_FIX_MU_WEIGHTING_ADD_DATA.pkl',\n",
    "    '09-19_14_13-oval_track-INDIRECT_FIX_MU_WEIGHTING_ADD_DATA.pkl',\n",
    "    '09-19_14_14-oval_track-INDIRECT_FIX_MU_WEIGHTING_ADD_DATA.pkl',\n",
    "    '09-19_14_16-oval_track-INDIRECT_FIX_MU_WEIGHTING_ADD_DATA.pkl',\n",
    "    '09-19_14_17-oval_track-INDIRECT_FIX_MU_WEIGHTING_ADD_DATA.pkl',\n",
    "    '09-19_14_19-oval_track-INDIRECT_FIX_MU_WEIGHTING_ADD_DATA.pkl',\n",
    "    '09-19_14_21-oval_track-INDIRECT_FIX_MU_WEIGHTING_ADD_DATA.pkl',\n",
    "    '09-19_14_22-oval_track-INDIRECT_FIX_MU_WEIGHTING_ADD_DATA.pkl',\n",
    "    '09-19_14_24-oval_track-INDIRECT_FIX_MU_WEIGHTING_ADD_DATA.pkl',\n",
    "    '09-19_14_26-oval_track-INDIRECT_FIX_MU_WEIGHTING_ADD_DATA.pkl',\n",
    "    '09-19_14_28-oval_track-INDIRECT_FIX_MU_WEIGHTING_ADD_DATA.pkl',\n",
    "    '09-19_14_30-oval_track-INDIRECT_FIX_MU_WEIGHTING_ADD_DATA.pkl',\n",
    "    '09-19_14_32-oval_track-INDIRECT_FIX_MU_WEIGHTING_ADD_DATA.pkl',\n",
    "    '09-19_14_36-oval_track-INDIRECT_FIX_MU_WEIGHTING_ADD_DATA.pkl',\n",
    "]"
   ]
  },
  {
   "cell_type": "code",
   "execution_count": 15,
   "metadata": {},
   "outputs": [
    {
     "name": "stdout",
     "output_type": "stream",
     "text": [
      "[]\n",
      "[]\n",
      "[143, 127, 107]\n",
      "[]\n",
      "[]\n",
      "[931, 915, 895]\n",
      "[]\n",
      "[]\n",
      "[947, 931, 911]\n",
      "[1115, 1099, 1079]\n",
      "[]\n",
      "[947, 931, 911]\n",
      "[]\n",
      "[]\n",
      "[]\n"
     ]
    }
   ],
   "source": [
    "for result in results_list:\n",
    "    print(result.mark_time_steps)"
   ]
  },
  {
   "cell_type": "code",
   "execution_count": 26,
   "metadata": {},
   "outputs": [
    {
     "name": "stdout",
     "output_type": "stream",
     "text": [
      "[ 9.94903432e-01 -2.80125872e-01 -7.77214914e-02 -2.54675852e+01\n",
      "  2.98149533e+00 -2.44960355e-02]\n"
     ]
    }
   ],
   "source": [
    "# parameters for analysis stored in Sampler\n",
    "sampler = Sampler()\n",
    "sampler.lag = 1\n",
    "sampler.L = 1\n",
    "\n",
    "# results and dataset index to analyse\n",
    "results_index = [2, 5, 8, 11, 14]\n",
    "dataset_list: List[List[List[IODataWith_l]]] = []\n",
    "for i in results_index:\n",
    "    with open(os.path.join(os.curdir, 'datasets', dataset_name_list[i]), 'rb') as f:\n",
    "        single_dataset_list: List[List[IODataWith_l]] = pickle.load(f)\n",
    "    dataset_list.append(single_dataset_list)\n",
    "\n",
    "# get output and input size\n",
    "m = dataset_list[0][0][0]._input_data[0].shape[0]\n",
    "p = dataset_list[0][0][0]._output_data[0].shape[0]\n",
    "\n",
    "# extended state to analyse\n",
    "state_index = 127\n",
    "results = results_list[results_index[0]]\n",
    "u_list, y_list = [], []\n",
    "for i in range(state_index-sampler.lag+1, state_index+1):\n",
    "    u_list.append(results._input_applied[i])\n",
    "    y_list.append(results._error_trajectory[i][:p])\n",
    "xi_to_analyse = np.hstack(u_list + y_list)\n",
    "print(xi_to_analyse)\n",
    "\n",
    "# index of segment to analyse\n",
    "i_seg = results._"
   ]
  },
  {
   "cell_type": "code",
   "execution_count": 8,
   "metadata": {},
   "outputs": [
    {
     "name": "stdout",
     "output_type": "stream",
     "text": [
      "[ 3.92494127  0.34626657 -0.48989191 -0.17664771 -0.49333619  0.87891892\n",
      "  2.54733764 -1.89744206]\n",
      "[ 0.49295449 -0.13922798  4.13603385  0.03844976 -0.16376907  1.39981734\n",
      "  1.83084388 -1.63122561]\n",
      "[ 3.41563236  0.34194036  0.66344917 -0.24127359 -0.28340587  0.03503453\n",
      "  0.91009074 -1.87592194]\n",
      "[-1.07814328 -0.29456163  4.25823655 -0.39850516 -0.21518657  0.54588416\n",
      "  3.03212887 -0.38234845]\n",
      "[ 2.76353008 -0.2269794   3.36720584 -0.13031582 -0.21655426  0.31825908\n",
      "  0.38442324  0.0679664 ]\n"
     ]
    }
   ],
   "source": [
    "from itertools import islice\n",
    "sampler = Sampler()\n",
    "for el in islice(sampler.u_pf_y_p_iterator(),5):\n",
    "    print(el)"
   ]
  }
 ],
 "metadata": {
  "kernelspec": {
   "display_name": "DDSF_new",
   "language": "python",
   "name": "python3"
  },
  "language_info": {
   "codemirror_mode": {
    "name": "ipython",
    "version": 3
   },
   "file_extension": ".py",
   "mimetype": "text/x-python",
   "name": "python",
   "nbconvert_exporter": "python",
   "pygments_lexer": "ipython3",
   "version": "3.9.18"
  },
  "orig_nbformat": 4
 },
 "nbformat": 4,
 "nbformat_minor": 2
}
