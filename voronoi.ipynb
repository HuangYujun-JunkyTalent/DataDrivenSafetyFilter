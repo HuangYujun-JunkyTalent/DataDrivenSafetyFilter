{
 "cells": [
  {
   "cell_type": "code",
   "execution_count": 5,
   "metadata": {},
   "outputs": [],
   "source": [
    "from itertools import product\n",
    "from typing import Dict, List, Any, Tuple\n",
    "import os\n",
    "import pickle\n",
    "from timeit import default_timer as timer\n",
    "\n",
    "import numpy as np\n",
    "import matplotlib.pyplot as plt\n",
    "from scipy.spatial import Voronoi, voronoi_plot_2d, ConvexHull\n",
    "from scipy.spatial import distance\n",
    "\n",
    "from IOData.IOData import InputRule\n",
    "from IOData.IODataWith_l import IODataWith_l\n",
    "\n",
    "from simulators.track_simulator import TrackSimulator\n",
    "from simulators.simulation_settings import SafetyFilterTypes, TrackFilterTypes, SimulationInputRule, ModelType\n",
    "from tools.simualtion_results import Results\n",
    "\n",
    "from tools.simple_track_generator import trackGenerator    "
   ]
  },
  {
   "cell_type": "code",
   "execution_count": 6,
   "metadata": {},
   "outputs": [],
   "source": [
    "def get_datasets_hankel_matrix(io_data_list: List[IODataWith_l], lag: int, L: int) -> Tuple[np.matrix, np.matrix]:\n",
    "    \"\"\"Return tuple of [U_p; U_f; \\tilde{Y}_p] and [\\tilde{Y}_f]\"\"\"\n",
    "    p = io_data_list[0]._output_data[0].shape[0]\n",
    "    m = io_data_list[0]._input_data[0].shape[0]\n",
    "    H_uy_noised: np.matrix = np.matrix(np.zeros(( p*lag+m*(L+lag),0 )))\n",
    "    H_future_noised: np.matrix = np.matrix(np.zeros(( p*L,0 )))\n",
    "    for io_data in io_data_list:\n",
    "        if io_data.length >= L+lag: # only use data with enough length\n",
    "            io_data.update_depth(L+lag)\n",
    "            H_uy_noised_single = np.vstack( (io_data.H_input, io_data.H_output_noised_part((0, lag)),) )\n",
    "            H_uy_noised = np.hstack(( H_uy_noised, H_uy_noised_single ))\n",
    "            H_future_noised = np.hstack(( H_future_noised, io_data.H_output_noised_part((lag, lag+L)) ))\n",
    "    return H_uy_noised, H_future_noised"
   ]
  },
  {
   "cell_type": "code",
   "execution_count": 7,
   "metadata": {},
   "outputs": [],
   "source": [
    "with open(os.path.join(os.getcwd(), 'datasets', 'io_data_prbs_random_2.0_0.01_160_240.pkl'), 'rb') as read_file:\n",
    "    io_data_list_1: List[IODataWith_l] = pickle.load(read_file)\n",
    "with open(os.path.join(os.getcwd(), 'datasets', 'io_data_prbs_random_2.0_0.01_400.pkl'), 'rb') as read_file:\n",
    "    io_data_list_2: List[IODataWith_l] = pickle.load(read_file)\n",
    "with open(os.path.join(os.getcwd(), 'datasets', 'io_data_random_2.0_0.01_160_240.pkl'), 'rb') as read_file:\n",
    "    io_data_list_3: List[IODataWith_l] = pickle.load(read_file)\n",
    "with open(os.path.join(os.getcwd(), 'datasets', 'io_data_random_2.0_0.01_400.pkl'), 'rb') as read_file:\n",
    "    io_data_list_4: List[IODataWith_l] = pickle.load(read_file)\n",
    "io_data_list_list = [io_data_list_1, io_data_list_2, io_data_list_3, io_data_list_4]"
   ]
  },
  {
   "cell_type": "code",
   "execution_count": 8,
   "metadata": {},
   "outputs": [
    {
     "name": "stdout",
     "output_type": "stream",
     "text": [
      "141.7284098750024\n",
      "115.46176195799853\n",
      "264.0342533340008\n",
      "182.22244120800315\n"
     ]
    }
   ],
   "source": [
    "# H_uy_list = []\n",
    "# H_future_list = []\n",
    "hull_list = []\n",
    "# vor_list = []\n",
    "volume_list = []\n",
    "# dist_list = []\n",
    "radius_list = []\n",
    "for io_data_list in io_data_list_list:\n",
    "    start = timer()\n",
    "    H_uy, H_future = get_datasets_hankel_matrix(io_data_list, 1, 1)\n",
    "    # H_uy_list.append(H_uy)\n",
    "    # H_future_list.append(H_future)\n",
    "    \n",
    "    H_uy = np.array(H_uy.T)\n",
    "    hull = ConvexHull(H_uy)\n",
    "    hull_list.append(hull)\n",
    "\n",
    "    vor = Voronoi(H_uy)\n",
    "    # vor_list.append(vor)\n",
    "\n",
    "    volume_list.append(hull.volume)\n",
    "\n",
    "    dist = distance.cdist(H_uy, vor.vertices, 'euclidean')\n",
    "    # dist_list.append(dist)\n",
    "    radius = np.max(np.min(dist, axis=0))\n",
    "    radius_list.append(radius)\n",
    "\n",
    "    end = timer()\n",
    "    print(end - start)"
   ]
  },
  {
   "cell_type": "code",
   "execution_count": 15,
   "metadata": {},
   "outputs": [
    {
     "name": "stdout",
     "output_type": "stream",
     "text": [
      "3338.955928083\n"
     ]
    }
   ],
   "source": [
    "H_uy, H_future = get_datasets_hankel_matrix(io_data_list_1[1:], 1, 1)\n",
    "# H_uy_list.append(H_uy)\n",
    "# H_future_list.append(H_future)\n",
    "\n",
    "H_uy = np.array(H_uy.T)\n",
    "hull = ConvexHull(H_uy)\n",
    "hull_list.append(hull)\n",
    "\n",
    "vor = Voronoi(H_uy)\n",
    "# vor_list.append(vor)\n",
    "\n",
    "volume_list.append(hull.volume)\n",
    "\n",
    "dist = distance.cdist(H_uy, vor.vertices, 'euclidean')\n",
    "# dist_list.append(dist)\n",
    "radius = np.max(np.min(dist, axis=0))\n",
    "radius_list.append(radius)\n",
    "\n",
    "end = timer()\n",
    "print(end - start)"
   ]
  },
  {
   "cell_type": "code",
   "execution_count": 16,
   "metadata": {},
   "outputs": [
    {
     "name": "stdout",
     "output_type": "stream",
     "text": [
      "[0.000991419761346052, 3.7756883321690763e-07, 0.002427078097183792, 5.7204412223177866e-06, 0.0009461183605997144]\n",
      "[3500922468.0990086, 4310981.093002612, 29008187514.209797, 69026632.72967894, 3500922468.0907087]\n"
     ]
    }
   ],
   "source": [
    "print(volume_list)\n",
    "print(radius_list)"
   ]
  },
  {
   "cell_type": "code",
   "execution_count": 21,
   "metadata": {},
   "outputs": [
    {
     "data": {
      "text/plain": [
       "<matplotlib.collections.PathCollection at 0x150550400>"
      ]
     },
     "execution_count": 21,
     "metadata": {},
     "output_type": "execute_result"
    },
    {
     "data": {
      "image/png": "[encoded data removed]",
      "text/plain": [
       "<Figure size 640x480 with 1 Axes>"
      ]
     },
     "metadata": {},
     "output_type": "display_data"
    }
   ],
   "source": [
    "plt.scatter(H_uy[:,-2], H_uy[:,-1], marker='.')\n",
    "x_label = r'v_x - v_0'\n",
    "y_label = r'v_y'"
   ]
  },
  {
   "cell_type": "code",
   "execution_count": null,
   "metadata": {},
   "outputs": [],
   "source": [
    "example_points = "
   ]
  },
  {
   "cell_type": "code",
   "execution_count": 14,
   "metadata": {},
   "outputs": [
    {
     "data": {
      "text/plain": [
       "0.373759569467762"
      ]
     },
     "execution_count": 14,
     "metadata": {},
     "output_type": "execute_result"
    }
   ],
   "source": [
    "d = H_uy.shape[1]\n",
    "np.power(volume_list[1]/volume_list[0], 1/d)\n"
   ]
  }
 ],
 "metadata": {
  "kernelspec": {
   "display_name": "DDSF",
   "language": "python",
   "name": "python3"
  },
  "language_info": {
   "codemirror_mode": {
    "name": "ipython",
    "version": 3
   },
   "file_extension": ".py",
   "mimetype": "text/x-python",
   "name": "python",
   "nbconvert_exporter": "python",
   "pygments_lexer": "ipython3",
   "version": "3.9.16"
  },
  "orig_nbformat": 4
 },
 "nbformat": 4,
 "nbformat_minor": 2
}
